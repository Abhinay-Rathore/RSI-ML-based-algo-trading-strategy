{
 "cells": [
  {
   "cell_type": "markdown",
   "id": "a61f73b9-3189-43b0-92d8-0b005eee7eb3",
   "metadata": {},
   "source": [
    "## RSI - ML prediction based long time-frame strategy ( 1 Day)\n",
    "* Using 3 technical indicators - RSI(9), EMA(3), WMA(21) "
   ]
  },
  {
   "cell_type": "markdown",
   "id": "8d3cf474-d40e-4d93-9605-e8f96f988bdb",
   "metadata": {},
   "source": [
    "#### Importing libraries"
   ]
  },
  {
   "cell_type": "code",
   "execution_count": 4,
   "id": "4a6c4193-3903-42e6-a1b1-0dc10476bdda",
   "metadata": {},
   "outputs": [],
   "source": [
    "import pandas as pd\n",
    "import talib as ta\n",
    "import matplotlib.pyplot as plt\n",
    "import os\n",
    "from datetime import datetime, timedelta\n",
    "from statsmodels.tsa.arima.model import ARIMA\n",
    "import numpy as np\n",
    "\n",
    "import warnings\n",
    "# warnings.warn('Error: A warning just appeared')\n",
    "warnings.filterwarnings('ignore')"
   ]
  },
  {
   "cell_type": "markdown",
   "id": "91cb7a1a-9c5c-4f43-b09e-32786b2a6e74",
   "metadata": {},
   "source": [
    "### Data Preprocessing\n",
    "* Checking for Nan values\n",
    "* Replacing Nan with the average of previous and next value"
   ]
  },
  {
   "cell_type": "code",
   "execution_count": 1,
   "id": "8a06c9ac-8015-47d7-844e-7eb8be0297ca",
   "metadata": {},
   "outputs": [],
   "source": [
    "import pandas as pd\n",
    "\n",
    "def fill_nan_with_avg(df):\n",
    "    # Forward fill NaN values\n",
    "    df_ffill = df.ffill()\n",
    "\n",
    "    # Backward fill NaN values\n",
    "    df_bfill = df.bfill()\n",
    "\n",
    "    # Calculate the average of preceding and succeeding values\n",
    "    avg_values = (df_ffill + df_bfill) / 2\n",
    "\n",
    "    # Replace NaN values in the original DataFrame with the calculated averages\n",
    "    df_filled = df.where(df.notna(), avg_values)\n",
    "\n",
    "    return df_filled"
   ]
  },
  {
   "cell_type": "markdown",
   "id": "85812ed6-549b-4cdb-94b2-1544ce16d390",
   "metadata": {},
   "source": [
    "### Arima Prediction\n",
    "* Prediciting the next candle for the last row using `ARIMA` model"
   ]
  },
  {
   "cell_type": "markdown",
   "id": "ac87d269-1aec-434a-bb34-7332127b0792",
   "metadata": {},
   "source": [
    "#### Data Processing"
   ]
  },
  {
   "cell_type": "code",
   "execution_count": null,
   "id": "00b1d039-84bf-4dee-ad62-5a395c407585",
   "metadata": {},
   "outputs": [],
   "source": [
    "def data_process(df):\n",
    "    df_for_training = df[:]\n",
    "    history = [i for i in df_for_training[\"close\"]]\n",
    "    return history"
   ]
  },
  {
   "cell_type": "markdown",
   "id": "56ffc78c-0939-4f3d-b61c-0ef2e3fdaf14",
   "metadata": {},
   "source": [
    "#### Predictions using ARIMA\n",
    "\n",
    "* Predicting `close` price using ARIMA"
   ]
  },
  {
   "cell_type": "code",
   "execution_count": null,
   "id": "c31cff33-d263-4ccb-9161-4dbf0c3a8e80",
   "metadata": {},
   "outputs": [],
   "source": [
    "def predict(history):\n",
    "    predictions = []\n",
    "    for t in range(1):\n",
    "        model = ARIMA(history, order=(5,1,0))\n",
    "        model_fit = model.fit()\n",
    "        output = model_fit.forecast()\n",
    "        # print(output)\n",
    "        yhat = output[0]\n",
    "        predictions.append(yhat)\n",
    "    return predictions"
   ]
  },
  {
   "cell_type": "markdown",
   "id": "6a02746a-fe59-4a95-a6da-6f4d38e9ebed",
   "metadata": {},
   "source": [
    "#### Appending the predictions (\"close\") to the dataframe"
   ]
  },
  {
   "cell_type": "code",
   "execution_count": null,
   "id": "c128273c-1e89-46b4-8578-a20212f9a89b",
   "metadata": {},
   "outputs": [],
   "source": [
    "def add(csv_path, val):\n",
    "    df = pd.read_csv(csv_path)\n",
    "    df['datetime'] = pd.to_datetime(df['datetime'])\n",
    "    time_diff = df['datetime'].diff().iloc[-1]\n",
    "    next_datetime = df['datetime'].iloc[-1] + time_diff\n",
    "    data = {'datetime': [next_datetime],\n",
    "        'close': [val]}\n",
    "    new_row = pd.DataFrame(data)\n",
    "    df = pd.concat([df, new_row], ignore_index=True)\n",
    "    df = df.sort_values(by='datetime').reset_index(drop=True)\n",
    "    print(\"New DataFrame created Successfully....\")\n",
    "    return df"
   ]
  },
  {
   "cell_type": "markdown",
   "id": "9df9168b-afc2-4f9f-bedb-54cf47a72c0b",
   "metadata": {},
   "source": [
    "## Strategy"
   ]
  },
  {
   "cell_type": "code",
   "execution_count": null,
   "id": "68a08c42",
   "metadata": {},
   "outputs": [],
   "source": [
    "class TradingStrategy:\n",
    "    def __init__(self, data):\n",
    "        self.data = data  # represent the dataset\n",
    "        self.inMarket = 0 # if it is 0 then there is no trade and if it is 1 then there is a trade going on\n",
    "        self.buy = 0 # if it is 1 then we bought a trade in long side and if it is 2 then we sell a trade for short position and 0 for nothing\n",
    "\n",
    "    def generate_signals(self):  # function for generate signals in long and short position\n",
    "        for i in range(1, len(self.data) - 1): # loop through the data\n",
    "            if self.inMarket == 0: # if there is no trade going on then check condition for long or short position\n",
    "                if (\n",
    "                    self.data['EMA3'][i - 1] < self.data['WMA'][i - 1] and\n",
    "                    self.data['RSI'][i + 1] > self.data['EMA3'][i + 1] and\n",
    "                    self.data['EMA3'][i + 1] > self.data['WMA'][i + 1]\n",
    "                ):\n",
    "                    self.data['Signal'][i] = 1  # put signal 1 for buying a trade in long side \n",
    "                    self.buy = 1 \n",
    "                    self.inMarket = 1\n",
    "\n",
    "                if (\n",
    "                    self.data['EMA3'][i - 1] > self.data['WMA'][i - 1] and\n",
    "                    self.data['RSI'][i + 1] < self.data['EMA3'][i + 1] and\n",
    "                    self.data['EMA3'][i + 1] < self.data['WMA'][i + 1]\n",
    "                ):\n",
    "                    self.data['Signal'][i] = -1 # put signal -1 for sell a trade for short position\n",
    "                    self.buy = 2  \n",
    "                    self.inMarket = 1\n",
    "\n",
    "            elif self.inMarket == 1: # if there is trade  going on and check if buy value is 1 then we will sell the trade of long position\n",
    "                if self.buy == 1 and self.data['RSI'][i - 1] > self.data['EMA3'][i - 1] and self.data['RSI'][i + 1] < self.data['EMA3'][i + 1]:\n",
    "                    self.data['Signal'][i] = -1  # signal -1 for selling the trade of long position\n",
    "                    self.inMarket = 0\n",
    "                    self.buy = 0\n",
    "                # if buy value is 2 then we will buy a trade for short position \n",
    "                elif self.buy == 2 and self.data['RSI'][i - 1] < self.data['EMA3'][i - 1] and self.data['RSI'][i + 1] > self.data['EMA3'][i + 1]:\n",
    "                    self.data['Signal'][i] = 1\n",
    "                    self.buy = 0\n",
    "                    self.inMarket = 0\n",
    "\n",
    "        # if sum = 0 and signal = 1 then long entry\n",
    "        # if sum = 0 and signal = -1 then short entry\n",
    "        # if sum != 0 and signal = -1 then long exit \n",
    "        # if sum != 0 and signal = 1 then short exit\n",
    "        for i in range(len(self.data)): \n",
    "            self.data['sum'][i] = self.data['sum'][i - 1] + self.data['Signal'][i - 1]\n",
    "\n",
    "class TradingSystem:\n",
    "    def __init__(self, data_path):\n",
    "        self.data = pd.read_csv(data_path) # reading the csv data file\n",
    "        self.data.rename(columns = {'datetime':'timestamp'}, inplace = True) # rename the datetime column as timestamp\n",
    "        self.data['timestamp'] = pd.to_datetime(self.data['timestamp'])  # set the datetime in correct format\n",
    "        self.data.set_index('timestamp', inplace=True)\n",
    "        self.data['RSI'] = ta.RSI(self.data['close'], timeperiod=9) # using RSI indicator on close and length is 9\n",
    "        self.data['EMA3'] = ta.EMA(self.data['RSI'], timeperiod=3)  # using EMA indicator on RSI and length is 3\n",
    "        self.data['WMA'] = ta.WMA(self.data['RSI'], timeperiod=21)  # using WMA indicator on RSI and length is 21\n",
    "        self.data['Signal'] = 0  # using signal column for checking entry or exit in long and short position\n",
    "        self.data['sum'] = 0 # using sum column for checking the current trade in long or short position\n",
    "\n",
    "        self.strategy = TradingStrategy(self.data) \n",
    "\n",
    "    def run_strategy(self):\n",
    "        self.strategy.generate_signals() \n",
    "        self.data.to_csv(\"Result.csv\")  # save the signal data in csv file\n",
    "#         print(\"Total number of trades: \", self.strategy.countLongTrades + self.strategy.countShortTrades)\n",
    "\n",
    "# if __name__ == \"__main__\":\n",
    "#     warnings.filterwarnings(\"ignore\") # ignore the warnings \n",
    "#     trading_system = TradingSystem(\"DailyData.csv\") # giving the dataset \n",
    "#     trading_system.run_strategy() # call the function\n",
    "\n",
    "    \n",
    "    \n",
    "####----> BACKTEST RESULTS <----####\n",
    " \n",
    "# Gross Profit --> 10350.54213584676\n",
    "# Net Profit  --> 10109.664469421492\n",
    "# Positive PnL --> 10554.164825488748\n",
    "# negative PnL --> -203.62268964198896\n",
    "# Total number of closed trades --> 163\n",
    "# Win Rate(%) --> 89.57055214723927\n",
    "# Max Drawdown(%) --> -3.2318821997125164\n",
    "# Gross Loss --> 0\n",
    "# Average Winning Trade (USDT) --> 72.28880017458046\n",
    "# Average Losing Trade (USDT) --> -11.977805273058173\n",
    "# Buy and Hold Return of BTC(%) --> 228.121525\n",
    "# Largest Losing Trade (USDT) --> -32.58005517839974\n",
    "# Largest Winning Trade (USDT) --> 459.7788469654765\n",
    "# Sharpe Ratio --> 12.653810490851289\n",
    "# Sortino Ratio --> 201.63303615421327\n",
    "# Average Holding Duration per Trade --> 11 Days\n",
    "# Equity Final [$]  ----> 12933542.116158\n",
    "# Equity Peak [$]   ----> 12946475.658264\n",
    "# Return [%]       ---->  1293254.211616\n",
    "# Buy & Hold Return [%]   ----> 228.121525\n",
    "# Return (Ann.) [%]    ----> 944.37713"
   ]
  },
  {
   "cell_type": "markdown",
   "id": "2a4ab5db-f610-48ca-8353-da346dc1a34a",
   "metadata": {},
   "source": [
    "#### Reading the dataframe"
   ]
  },
  {
   "cell_type": "code",
   "execution_count": null,
   "id": "623a5d07-1957-4793-aca7-84ef0c3517e8",
   "metadata": {},
   "outputs": [],
   "source": [
    "data = pd.read_csv(\"btcusdt_15m.csv\")"
   ]
  },
  {
   "cell_type": "markdown",
   "id": "0091aa16-5d1e-495f-a7c9-5b7dff60378d",
   "metadata": {},
   "source": [
    "#### Replacing Nan values with the Average of preceding and succeeding"
   ]
  },
  {
   "cell_type": "code",
   "execution_count": null,
   "id": "69880f78-f722-42b1-b471-6d013edd59ee",
   "metadata": {},
   "outputs": [],
   "source": [
    "data = fill_nan_with_avg(data)"
   ]
  },
  {
   "cell_type": "markdown",
   "id": "82ed76b6-0e9d-423b-b60a-d1a00de80abc",
   "metadata": {},
   "source": [
    "#### Prediction using ARIMA "
   ]
  },
  {
   "cell_type": "code",
   "execution_count": null,
   "id": "9fff0630-7ac9-4e3d-8910-e1ba649a219f",
   "metadata": {},
   "outputs": [],
   "source": [
    "new_df = add(\"btcusdt_15m.csv\",predict(data_process(data))[0])"
   ]
  },
  {
   "cell_type": "markdown",
   "id": "6935b75a-8430-4d7f-ad4b-a530824e849d",
   "metadata": {},
   "source": [
    "#### Saving the dataframe"
   ]
  },
  {
   "cell_type": "code",
   "execution_count": null,
   "id": "d541f5ad-21f2-418c-8a2e-4980d4ed3da3",
   "metadata": {},
   "outputs": [],
   "source": [
    "new_df.to_csv(\"btcusdt_15m_new.csv\")"
   ]
  },
  {
   "cell_type": "markdown",
   "id": "ff02ab73-edbe-432a-821e-3832675310bc",
   "metadata": {},
   "source": [
    "### Using the new dataframe to get the Signal\n",
    "\n",
    "* Saving the result as `Result.csv`"
   ]
  },
  {
   "cell_type": "code",
   "execution_count": null,
   "id": "ee0f0854-8845-4c38-a7ee-18f2189a6dee",
   "metadata": {},
   "outputs": [],
   "source": [
    "trading_system = TradingSystem(\"btcusdt_15m_new.csv\") # giving the dataset \n",
    "trading_system.run_strategy()"
   ]
  }
 ],
 "metadata": {
  "kernelspec": {
   "display_name": "Python 3 (ipykernel)",
   "language": "python",
   "name": "python3"
  },
  "language_info": {
   "codemirror_mode": {
    "name": "ipython",
    "version": 3
   },
   "file_extension": ".py",
   "mimetype": "text/x-python",
   "name": "python",
   "nbconvert_exporter": "python",
   "pygments_lexer": "ipython3",
   "version": "3.9.13"
  }
 },
 "nbformat": 4,
 "nbformat_minor": 5
}
